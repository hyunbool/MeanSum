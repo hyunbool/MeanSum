{
 "cells": [
  {
   "cell_type": "code",
   "execution_count": 12,
   "id": "f1e144e1",
   "metadata": {},
   "outputs": [],
   "source": [
    "import os\n",
    "\n",
    "path = \"books/\"\n",
    "new_path = \"books_json/\"\n",
    "file_list = sorted(os.listdir(path))"
   ]
  },
  {
   "cell_type": "code",
   "execution_count": 17,
   "id": "579ae9d7",
   "metadata": {},
   "outputs": [],
   "source": [
    "import json\n",
    "\n",
    "for i, title in enumerate(file_list):\n",
    "    documents = list()\n",
    "    \n",
    "    f = open(path + title, 'r')\n",
    "    segments = f.readlines() # 문단1, 문단2 ... 가 들어 있는 리스트\n",
    "    title = title[:-4]\n",
    "    \n",
    "    for j, seg in enumerate(segments):\n",
    "        doc_json = dict()\n",
    "        \n",
    "        doc_json[\"business_id\"] = str(i)\n",
    "        doc_json[\"cool\"] = 0\n",
    "        doc_json[\"funny\"] = 0\n",
    "        doc_json[\"review_id\"] = str(i) + \"+\" + str(j)\n",
    "        doc_json[\"stars\"] = 5\n",
    "        doc_json[\"text\"] = seg\n",
    "        doc_json[\"useful\"] = 0\n",
    "\n",
    "        documents.append(doc_json)\n",
    "        \n",
    "    with open(new_path + title + \".json\", 'w', encoding='utf-8') as make_file:\n",
    "        json.dump(documents, make_file, ensure_ascii=False, indent=\"\\t\")"
   ]
  },
  {
   "cell_type": "code",
   "execution_count": null,
   "id": "e19fab53",
   "metadata": {},
   "outputs": [],
   "source": [
    "for i in file_list:\n",
    "    seg = list()\n",
    "    print(i)\n",
    "    f = open(path + i, 'r')\n",
    "    line = f.readlines()\n",
    "    title = i[4:-4]\n",
    "\n",
    "    for j in range(len(line)):\n",
    "        if \" // \" in line[j]:\n",
    "            segments = line[j].split(\" // \")\n",
    "            para = \" \".join(segments)\n",
    "            seg.append(para)\n",
    "\n",
    "    full_text = \"\".join(seg)\n",
    "\n",
    "    with open(new_path + title + '.txt', 'w', encoding='utf-8') as newf:\n",
    "        newf.write(full_text)\n",
    "\n",
    "            \n",
    "    f.close()\n",
    "    newf.close()"
   ]
  }
 ],
 "metadata": {
  "kernelspec": {
   "display_name": "Python 3",
   "language": "python",
   "name": "python3"
  },
  "language_info": {
   "codemirror_mode": {
    "name": "ipython",
    "version": 3
   },
   "file_extension": ".py",
   "mimetype": "text/x-python",
   "name": "python",
   "nbconvert_exporter": "python",
   "pygments_lexer": "ipython3",
   "version": "3.8.8"
  }
 },
 "nbformat": 4,
 "nbformat_minor": 5
}
